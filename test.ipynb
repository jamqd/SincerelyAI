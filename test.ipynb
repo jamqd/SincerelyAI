{
 "cells": [
  {
   "cell_type": "code",
   "execution_count": 1,
   "metadata": {},
   "outputs": [],
   "source": [
    "import tensorflow as tf\n",
    "import pandas as pd\n",
    "import matplotlib.pyplot as plt\n",
    "import tensorflow_hub as hub\n",
    "import numpy as np\n",
    "import os"
   ]
  },
  {
   "cell_type": "code",
   "execution_count": 2,
   "metadata": {},
   "outputs": [],
   "source": [
    "os.environ[\"TFHUB_CACHE_DIR\"] = '/Users/johndang/tfhub'"
   ]
  },
  {
   "cell_type": "code",
   "execution_count": 3,
   "metadata": {},
   "outputs": [
    {
     "name": "stdout",
     "output_type": "stream",
     "text": [
      "INFO:tensorflow:Using /Users/johndang/tfhub to cache modules.\n",
      "INFO:tensorflow:Module 'https://tfhub.dev/google/universal-sentence-encoder/2' already being downloaded by 'Johns-MacBook-Pro.local.824.e6ee93cbd74845d881ceb79e898aa0b3'. Waiting.\n",
      "INFO:tensorflow:Module 'https://tfhub.dev/google/universal-sentence-encoder/2' already being downloaded by 'Johns-MacBook-Pro.local.824.e6ee93cbd74845d881ceb79e898aa0b3'. Waiting.\n",
      "INFO:tensorflow:Module 'https://tfhub.dev/google/universal-sentence-encoder/2' already being downloaded by 'Johns-MacBook-Pro.local.824.e6ee93cbd74845d881ceb79e898aa0b3'. Waiting.\n",
      "INFO:tensorflow:Module 'https://tfhub.dev/google/universal-sentence-encoder/2' already being downloaded by 'Johns-MacBook-Pro.local.824.e6ee93cbd74845d881ceb79e898aa0b3'. Waiting.\n",
      "INFO:tensorflow:Module 'https://tfhub.dev/google/universal-sentence-encoder/2' already being downloaded by 'Johns-MacBook-Pro.local.824.e6ee93cbd74845d881ceb79e898aa0b3'. Waiting.\n",
      "INFO:tensorflow:Module 'https://tfhub.dev/google/universal-sentence-encoder/2' already being downloaded by 'Johns-MacBook-Pro.local.824.e6ee93cbd74845d881ceb79e898aa0b3'. Waiting.\n",
      "INFO:tensorflow:Module 'https://tfhub.dev/google/universal-sentence-encoder/2' already being downloaded by 'Johns-MacBook-Pro.local.824.e6ee93cbd74845d881ceb79e898aa0b3'. Waiting.\n",
      "INFO:tensorflow:Module 'https://tfhub.dev/google/universal-sentence-encoder/2' already being downloaded by 'Johns-MacBook-Pro.local.824.e6ee93cbd74845d881ceb79e898aa0b3'. Waiting.\n",
      "INFO:tensorflow:Module 'https://tfhub.dev/google/universal-sentence-encoder/2' already being downloaded by 'Johns-MacBook-Pro.local.824.e6ee93cbd74845d881ceb79e898aa0b3'. Waiting.\n",
      "INFO:tensorflow:Module 'https://tfhub.dev/google/universal-sentence-encoder/2' already being downloaded by 'Johns-MacBook-Pro.local.824.e6ee93cbd74845d881ceb79e898aa0b3'. Waiting.\n",
      "INFO:tensorflow:Module 'https://tfhub.dev/google/universal-sentence-encoder/2' already being downloaded by 'Johns-MacBook-Pro.local.824.e6ee93cbd74845d881ceb79e898aa0b3'. Waiting.\n",
      "INFO:tensorflow:Module 'https://tfhub.dev/google/universal-sentence-encoder/2' already being downloaded by 'Johns-MacBook-Pro.local.824.e6ee93cbd74845d881ceb79e898aa0b3'. Waiting.\n",
      "INFO:tensorflow:Module 'https://tfhub.dev/google/universal-sentence-encoder/2' already being downloaded by 'Johns-MacBook-Pro.local.824.e6ee93cbd74845d881ceb79e898aa0b3'. Waiting.\n",
      "INFO:tensorflow:Module 'https://tfhub.dev/google/universal-sentence-encoder/2' already being downloaded by 'Johns-MacBook-Pro.local.824.e6ee93cbd74845d881ceb79e898aa0b3'. Waiting.\n",
      "INFO:tensorflow:Module 'https://tfhub.dev/google/universal-sentence-encoder/2' already being downloaded by 'Johns-MacBook-Pro.local.824.e6ee93cbd74845d881ceb79e898aa0b3'. Waiting.\n",
      "INFO:tensorflow:Module 'https://tfhub.dev/google/universal-sentence-encoder/2' already being downloaded by 'Johns-MacBook-Pro.local.824.e6ee93cbd74845d881ceb79e898aa0b3'. Waiting.\n",
      "INFO:tensorflow:Module 'https://tfhub.dev/google/universal-sentence-encoder/2' already being downloaded by 'Johns-MacBook-Pro.local.824.e6ee93cbd74845d881ceb79e898aa0b3'. Waiting.\n",
      "INFO:tensorflow:Module 'https://tfhub.dev/google/universal-sentence-encoder/2' already being downloaded by 'Johns-MacBook-Pro.local.824.e6ee93cbd74845d881ceb79e898aa0b3'. Waiting.\n",
      "INFO:tensorflow:Module 'https://tfhub.dev/google/universal-sentence-encoder/2' already being downloaded by 'Johns-MacBook-Pro.local.824.e6ee93cbd74845d881ceb79e898aa0b3'. Waiting.\n",
      "INFO:tensorflow:Module 'https://tfhub.dev/google/universal-sentence-encoder/2' already being downloaded by 'Johns-MacBook-Pro.local.824.e6ee93cbd74845d881ceb79e898aa0b3'. Waiting.\n",
      "INFO:tensorflow:Module 'https://tfhub.dev/google/universal-sentence-encoder/2' already being downloaded by 'Johns-MacBook-Pro.local.824.e6ee93cbd74845d881ceb79e898aa0b3'. Waiting.\n",
      "INFO:tensorflow:Module 'https://tfhub.dev/google/universal-sentence-encoder/2' already being downloaded by 'Johns-MacBook-Pro.local.824.e6ee93cbd74845d881ceb79e898aa0b3'. Waiting.\n",
      "INFO:tensorflow:Module 'https://tfhub.dev/google/universal-sentence-encoder/2' already being downloaded by 'Johns-MacBook-Pro.local.824.e6ee93cbd74845d881ceb79e898aa0b3'. Waiting.\n",
      "INFO:tensorflow:Module 'https://tfhub.dev/google/universal-sentence-encoder/2' already being downloaded by 'Johns-MacBook-Pro.local.824.e6ee93cbd74845d881ceb79e898aa0b3'. Waiting.\n",
      "INFO:tensorflow:Module 'https://tfhub.dev/google/universal-sentence-encoder/2' already being downloaded by 'Johns-MacBook-Pro.local.824.e6ee93cbd74845d881ceb79e898aa0b3'. Waiting.\n",
      "WARNING:tensorflow:Deleting lock file /Users/johndang/tfhub/1fb57c3ffe1a38479233ee9853ddd7a8ac8a8c47.lock due to inactivity.\n",
      "INFO:tensorflow:Downloading TF-Hub Module 'https://tfhub.dev/google/universal-sentence-encoder/2'.\n",
      "INFO:tensorflow:Downloading https://tfhub.dev/google/universal-sentence-encoder/2: 48.00MB\n",
      "INFO:tensorflow:Downloading https://tfhub.dev/google/universal-sentence-encoder/2: 88.00MB\n",
      "INFO:tensorflow:Downloading https://tfhub.dev/google/universal-sentence-encoder/2: 108.00MB\n",
      "INFO:tensorflow:Downloading https://tfhub.dev/google/universal-sentence-encoder/2: 148.00MB\n",
      "INFO:tensorflow:Downloading https://tfhub.dev/google/universal-sentence-encoder/2: 198.00MB\n",
      "INFO:tensorflow:Downloading https://tfhub.dev/google/universal-sentence-encoder/2: 248.00MB\n",
      "INFO:tensorflow:Downloading https://tfhub.dev/google/universal-sentence-encoder/2: 288.00MB\n",
      "INFO:tensorflow:Downloading https://tfhub.dev/google/universal-sentence-encoder/2: 328.00MB\n",
      "INFO:tensorflow:Downloading https://tfhub.dev/google/universal-sentence-encoder/2: 358.00MB\n",
      "INFO:tensorflow:Downloading https://tfhub.dev/google/universal-sentence-encoder/2: 398.00MB\n",
      "INFO:tensorflow:Downloading https://tfhub.dev/google/universal-sentence-encoder/2: 418.00MB\n",
      "INFO:tensorflow:Downloading https://tfhub.dev/google/universal-sentence-encoder/2: 448.00MB\n",
      "INFO:tensorflow:Downloading https://tfhub.dev/google/universal-sentence-encoder/2: 488.00MB\n",
      "INFO:tensorflow:Downloading https://tfhub.dev/google/universal-sentence-encoder/2: 508.00MB\n",
      "INFO:tensorflow:Downloading https://tfhub.dev/google/universal-sentence-encoder/2: 518.00MB\n",
      "INFO:tensorflow:Downloading https://tfhub.dev/google/universal-sentence-encoder/2: 558.00MB\n",
      "INFO:tensorflow:Downloading https://tfhub.dev/google/universal-sentence-encoder/2: 588.00MB\n",
      "INFO:tensorflow:Downloading https://tfhub.dev/google/universal-sentence-encoder/2: 628.00MB\n",
      "INFO:tensorflow:Downloading https://tfhub.dev/google/universal-sentence-encoder/2: 678.00MB\n",
      "INFO:tensorflow:Downloading https://tfhub.dev/google/universal-sentence-encoder/2: 708.00MB\n",
      "INFO:tensorflow:Downloading https://tfhub.dev/google/universal-sentence-encoder/2: 738.00MB\n",
      "INFO:tensorflow:Downloading https://tfhub.dev/google/universal-sentence-encoder/2: 758.00MB\n",
      "INFO:tensorflow:Downloading https://tfhub.dev/google/universal-sentence-encoder/2: 778.00MB\n",
      "INFO:tensorflow:Downloading https://tfhub.dev/google/universal-sentence-encoder/2: 798.00MB\n",
      "INFO:tensorflow:Downloading https://tfhub.dev/google/universal-sentence-encoder/2: 818.00MB\n",
      "INFO:tensorflow:Downloading https://tfhub.dev/google/universal-sentence-encoder/2: 838.00MB\n",
      "INFO:tensorflow:Downloading https://tfhub.dev/google/universal-sentence-encoder/2: 858.00MB\n",
      "INFO:tensorflow:Downloading https://tfhub.dev/google/universal-sentence-encoder/2: 908.00MB\n",
      "INFO:tensorflow:Downloading https://tfhub.dev/google/universal-sentence-encoder/2: 948.00MB\n",
      "INFO:tensorflow:Downloading https://tfhub.dev/google/universal-sentence-encoder/2: 978.00MB\n",
      "INFO:tensorflow:Downloaded https://tfhub.dev/google/universal-sentence-encoder/2, Total size: 993.27MB\n",
      "INFO:tensorflow:Downloaded TF-Hub Module 'https://tfhub.dev/google/universal-sentence-encoder/2'.\n"
     ]
    }
   ],
   "source": [
    "module_url = \"https://tfhub.dev/google/universal-sentence-encoder/2\"\n",
    "embed = hub.Module(module_url)"
   ]
  },
  {
   "cell_type": "code",
   "execution_count": null,
   "metadata": {},
   "outputs": [],
   "source": []
  }
 ],
 "metadata": {
  "kernelspec": {
   "display_name": "Python [conda env:quora]",
   "language": "python",
   "name": "conda-env-quora-py"
  },
  "language_info": {
   "codemirror_mode": {
    "name": "ipython",
    "version": 3
   },
   "file_extension": ".py",
   "mimetype": "text/x-python",
   "name": "python",
   "nbconvert_exporter": "python",
   "pygments_lexer": "ipython3",
   "version": "3.6.7"
  }
 },
 "nbformat": 4,
 "nbformat_minor": 2
}
