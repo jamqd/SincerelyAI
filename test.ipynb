{
 "cells": [
  {
   "cell_type": "code",
   "execution_count": 1,
   "metadata": {},
   "outputs": [],
   "source": [
    "import tensorflow as tf\n",
    "import pandas as pd\n",
    "import matplotlib.pyplot as plt\n",
    "import tensorflow_hub as hub\n",
    "import numpy as np\n",
    "import os"
   ]
  },
  {
   "cell_type": "code",
   "execution_count": 2,
   "metadata": {},
   "outputs": [],
   "source": [
    "os.environ[\"TFHUB_CACHE_DIR\"] = '/Users/johndang/tfhub'"
   ]
  },
  {
   "cell_type": "code",
   "execution_count": null,
   "metadata": {},
   "outputs": [
    {
     "name": "stdout",
     "output_type": "stream",
     "text": [
      "INFO:tensorflow:Using /Users/johndang/tfhub to cache modules.\n",
      "INFO:tensorflow:Module 'https://tfhub.dev/google/universal-sentence-encoder/2' already being downloaded by 'Johns-MacBook-Pro.local.824.e6ee93cbd74845d881ceb79e898aa0b3'. Waiting.\n",
      "INFO:tensorflow:Module 'https://tfhub.dev/google/universal-sentence-encoder/2' already being downloaded by 'Johns-MacBook-Pro.local.824.e6ee93cbd74845d881ceb79e898aa0b3'. Waiting.\n",
      "INFO:tensorflow:Module 'https://tfhub.dev/google/universal-sentence-encoder/2' already being downloaded by 'Johns-MacBook-Pro.local.824.e6ee93cbd74845d881ceb79e898aa0b3'. Waiting.\n",
      "INFO:tensorflow:Module 'https://tfhub.dev/google/universal-sentence-encoder/2' already being downloaded by 'Johns-MacBook-Pro.local.824.e6ee93cbd74845d881ceb79e898aa0b3'. Waiting.\n",
      "INFO:tensorflow:Module 'https://tfhub.dev/google/universal-sentence-encoder/2' already being downloaded by 'Johns-MacBook-Pro.local.824.e6ee93cbd74845d881ceb79e898aa0b3'. Waiting.\n",
      "INFO:tensorflow:Module 'https://tfhub.dev/google/universal-sentence-encoder/2' already being downloaded by 'Johns-MacBook-Pro.local.824.e6ee93cbd74845d881ceb79e898aa0b3'. Waiting.\n",
      "INFO:tensorflow:Module 'https://tfhub.dev/google/universal-sentence-encoder/2' already being downloaded by 'Johns-MacBook-Pro.local.824.e6ee93cbd74845d881ceb79e898aa0b3'. Waiting.\n",
      "INFO:tensorflow:Module 'https://tfhub.dev/google/universal-sentence-encoder/2' already being downloaded by 'Johns-MacBook-Pro.local.824.e6ee93cbd74845d881ceb79e898aa0b3'. Waiting.\n",
      "INFO:tensorflow:Module 'https://tfhub.dev/google/universal-sentence-encoder/2' already being downloaded by 'Johns-MacBook-Pro.local.824.e6ee93cbd74845d881ceb79e898aa0b3'. Waiting.\n",
      "INFO:tensorflow:Module 'https://tfhub.dev/google/universal-sentence-encoder/2' already being downloaded by 'Johns-MacBook-Pro.local.824.e6ee93cbd74845d881ceb79e898aa0b3'. Waiting.\n",
      "INFO:tensorflow:Module 'https://tfhub.dev/google/universal-sentence-encoder/2' already being downloaded by 'Johns-MacBook-Pro.local.824.e6ee93cbd74845d881ceb79e898aa0b3'. Waiting.\n",
      "INFO:tensorflow:Module 'https://tfhub.dev/google/universal-sentence-encoder/2' already being downloaded by 'Johns-MacBook-Pro.local.824.e6ee93cbd74845d881ceb79e898aa0b3'. Waiting.\n",
      "INFO:tensorflow:Module 'https://tfhub.dev/google/universal-sentence-encoder/2' already being downloaded by 'Johns-MacBook-Pro.local.824.e6ee93cbd74845d881ceb79e898aa0b3'. Waiting.\n",
      "INFO:tensorflow:Module 'https://tfhub.dev/google/universal-sentence-encoder/2' already being downloaded by 'Johns-MacBook-Pro.local.824.e6ee93cbd74845d881ceb79e898aa0b3'. Waiting.\n",
      "INFO:tensorflow:Module 'https://tfhub.dev/google/universal-sentence-encoder/2' already being downloaded by 'Johns-MacBook-Pro.local.824.e6ee93cbd74845d881ceb79e898aa0b3'. Waiting.\n",
      "INFO:tensorflow:Module 'https://tfhub.dev/google/universal-sentence-encoder/2' already being downloaded by 'Johns-MacBook-Pro.local.824.e6ee93cbd74845d881ceb79e898aa0b3'. Waiting.\n",
      "INFO:tensorflow:Module 'https://tfhub.dev/google/universal-sentence-encoder/2' already being downloaded by 'Johns-MacBook-Pro.local.824.e6ee93cbd74845d881ceb79e898aa0b3'. Waiting.\n",
      "INFO:tensorflow:Module 'https://tfhub.dev/google/universal-sentence-encoder/2' already being downloaded by 'Johns-MacBook-Pro.local.824.e6ee93cbd74845d881ceb79e898aa0b3'. Waiting.\n"
     ]
    }
   ],
   "source": [
    "module_url = \"https://tfhub.dev/google/universal-sentence-encoder/2\"\n",
    "embed = hub.Module(module_url)"
   ]
  },
  {
   "cell_type": "code",
   "execution_count": null,
   "metadata": {},
   "outputs": [],
   "source": []
  }
 ],
 "metadata": {
  "kernelspec": {
   "display_name": "Python [conda env:quora]",
   "language": "python",
   "name": "conda-env-quora-py"
  },
  "language_info": {
   "codemirror_mode": {
    "name": "ipython",
    "version": 3
   },
   "file_extension": ".py",
   "mimetype": "text/x-python",
   "name": "python",
   "nbconvert_exporter": "python",
   "pygments_lexer": "ipython3",
   "version": "3.6.7"
  }
 },
 "nbformat": 4,
 "nbformat_minor": 2
}
