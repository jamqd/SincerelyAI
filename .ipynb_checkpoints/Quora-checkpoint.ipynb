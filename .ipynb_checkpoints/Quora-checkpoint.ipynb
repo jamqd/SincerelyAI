{
 "cells": [
  {
   "cell_type": "code",
   "execution_count": 27,
   "metadata": {},
   "outputs": [],
   "source": [
    "import tensorflow as tf\n",
    "import pandas as pd\n",
    "import matplotlib.pyplot as plt\n",
    "import tensorflow_hub as hub\n",
    "import numpy as np\n",
    "%matplotlib inline"
   ]
  },
  {
   "cell_type": "code",
   "execution_count": 28,
   "metadata": {},
   "outputs": [
    {
     "data": {
      "text/plain": [
       "(10000, 512)"
      ]
     },
     "execution_count": 28,
     "metadata": {},
     "output_type": "execute_result"
    }
   ],
   "source": [
    "df = pd.read_csv(\"data/question_embeddings0.csv\")\n",
    "df.shape"
   ]
  },
  {
   "cell_type": "code",
   "execution_count": 29,
   "metadata": {},
   "outputs": [
    {
     "name": "stdout",
     "output_type": "stream",
     "text": [
      "Training Data Frame Dimensions: (1306122, 3)\n"
     ]
    }
   ],
   "source": [
    "# read training data\n",
    "train_df = pd.read_csv(\"data/train.csv\")\n",
    "print(\"Training Data Frame Dimensions: \" + str(train_df.shape))"
   ]
  },
  {
   "cell_type": "code",
   "execution_count": 30,
   "metadata": {},
   "outputs": [
    {
     "data": {
      "text/html": [
       "<div>\n",
       "<style scoped>\n",
       "    .dataframe tbody tr th:only-of-type {\n",
       "        vertical-align: middle;\n",
       "    }\n",
       "\n",
       "    .dataframe tbody tr th {\n",
       "        vertical-align: top;\n",
       "    }\n",
       "\n",
       "    .dataframe thead th {\n",
       "        text-align: right;\n",
       "    }\n",
       "</style>\n",
       "<table border=\"1\" class=\"dataframe\">\n",
       "  <thead>\n",
       "    <tr style=\"text-align: right;\">\n",
       "      <th></th>\n",
       "      <th>qid</th>\n",
       "      <th>question_text</th>\n",
       "      <th>target</th>\n",
       "    </tr>\n",
       "  </thead>\n",
       "  <tbody>\n",
       "    <tr>\n",
       "      <th>0</th>\n",
       "      <td>00002165364db923c7e6</td>\n",
       "      <td>How did Quebec nationalists see their province...</td>\n",
       "      <td>0</td>\n",
       "    </tr>\n",
       "    <tr>\n",
       "      <th>1</th>\n",
       "      <td>000032939017120e6e44</td>\n",
       "      <td>Do you have an adopted dog, how would you enco...</td>\n",
       "      <td>0</td>\n",
       "    </tr>\n",
       "    <tr>\n",
       "      <th>2</th>\n",
       "      <td>0000412ca6e4628ce2cf</td>\n",
       "      <td>Why does velocity affect time? Does velocity a...</td>\n",
       "      <td>0</td>\n",
       "    </tr>\n",
       "    <tr>\n",
       "      <th>3</th>\n",
       "      <td>000042bf85aa498cd78e</td>\n",
       "      <td>How did Otto von Guericke used the Magdeburg h...</td>\n",
       "      <td>0</td>\n",
       "    </tr>\n",
       "    <tr>\n",
       "      <th>4</th>\n",
       "      <td>0000455dfa3e01eae3af</td>\n",
       "      <td>Can I convert montra helicon D to a mountain b...</td>\n",
       "      <td>0</td>\n",
       "    </tr>\n",
       "  </tbody>\n",
       "</table>\n",
       "</div>"
      ],
      "text/plain": [
       "                    qid                                      question_text  \\\n",
       "0  00002165364db923c7e6  How did Quebec nationalists see their province...   \n",
       "1  000032939017120e6e44  Do you have an adopted dog, how would you enco...   \n",
       "2  0000412ca6e4628ce2cf  Why does velocity affect time? Does velocity a...   \n",
       "3  000042bf85aa498cd78e  How did Otto von Guericke used the Magdeburg h...   \n",
       "4  0000455dfa3e01eae3af  Can I convert montra helicon D to a mountain b...   \n",
       "\n",
       "   target  \n",
       "0       0  \n",
       "1       0  \n",
       "2       0  \n",
       "3       0  \n",
       "4       0  "
      ]
     },
     "execution_count": 30,
     "metadata": {},
     "output_type": "execute_result"
    }
   ],
   "source": [
    "# first 5 elements of training data\n",
    "train_df.head()"
   ]
  },
  {
   "cell_type": "code",
   "execution_count": 31,
   "metadata": {},
   "outputs": [
    {
     "data": {
      "text/html": [
       "<div>\n",
       "<style scoped>\n",
       "    .dataframe tbody tr th:only-of-type {\n",
       "        vertical-align: middle;\n",
       "    }\n",
       "\n",
       "    .dataframe tbody tr th {\n",
       "        vertical-align: top;\n",
       "    }\n",
       "\n",
       "    .dataframe thead th {\n",
       "        text-align: right;\n",
       "    }\n",
       "</style>\n",
       "<table border=\"1\" class=\"dataframe\">\n",
       "  <thead>\n",
       "    <tr style=\"text-align: right;\">\n",
       "      <th></th>\n",
       "      <th>qid</th>\n",
       "      <th>question_text</th>\n",
       "      <th>target</th>\n",
       "    </tr>\n",
       "  </thead>\n",
       "  <tbody>\n",
       "    <tr>\n",
       "      <th>1306117</th>\n",
       "      <td>ffffcc4e2331aaf1e41e</td>\n",
       "      <td>What other technical skills do you need as a c...</td>\n",
       "      <td>0</td>\n",
       "    </tr>\n",
       "    <tr>\n",
       "      <th>1306118</th>\n",
       "      <td>ffffd431801e5a2f4861</td>\n",
       "      <td>Does MS in ECE have good job prospects in USA ...</td>\n",
       "      <td>0</td>\n",
       "    </tr>\n",
       "    <tr>\n",
       "      <th>1306119</th>\n",
       "      <td>ffffd48fb36b63db010c</td>\n",
       "      <td>Is foam insulation toxic?</td>\n",
       "      <td>0</td>\n",
       "    </tr>\n",
       "    <tr>\n",
       "      <th>1306120</th>\n",
       "      <td>ffffec519fa37cf60c78</td>\n",
       "      <td>How can one start a research project based on ...</td>\n",
       "      <td>0</td>\n",
       "    </tr>\n",
       "    <tr>\n",
       "      <th>1306121</th>\n",
       "      <td>ffffed09fedb5088744a</td>\n",
       "      <td>Who wins in a battle between a Wolverine and a...</td>\n",
       "      <td>0</td>\n",
       "    </tr>\n",
       "  </tbody>\n",
       "</table>\n",
       "</div>"
      ],
      "text/plain": [
       "                          qid  \\\n",
       "1306117  ffffcc4e2331aaf1e41e   \n",
       "1306118  ffffd431801e5a2f4861   \n",
       "1306119  ffffd48fb36b63db010c   \n",
       "1306120  ffffec519fa37cf60c78   \n",
       "1306121  ffffed09fedb5088744a   \n",
       "\n",
       "                                             question_text  target  \n",
       "1306117  What other technical skills do you need as a c...       0  \n",
       "1306118  Does MS in ECE have good job prospects in USA ...       0  \n",
       "1306119                          Is foam insulation toxic?       0  \n",
       "1306120  How can one start a research project based on ...       0  \n",
       "1306121  Who wins in a battle between a Wolverine and a...       0  "
      ]
     },
     "execution_count": 31,
     "metadata": {},
     "output_type": "execute_result"
    }
   ],
   "source": [
    "# last 5 elements of training data\n",
    "train_df.tail()"
   ]
  },
  {
   "cell_type": "code",
   "execution_count": 32,
   "metadata": {},
   "outputs": [
    {
     "name": "stdout",
     "output_type": "stream",
     "text": [
      "The number of insincere is 80810\n"
     ]
    }
   ],
   "source": [
    "insincere_df = train_df.loc[train_df[\"target\"] == 1]\n",
    "print(\"The number of insincere is \" + str(insincere_df.shape[0]))"
   ]
  },
  {
   "cell_type": "code",
   "execution_count": 33,
   "metadata": {},
   "outputs": [
    {
     "name": "stdout",
     "output_type": "stream",
     "text": [
      "The number of sincere is 1225312\n"
     ]
    }
   ],
   "source": [
    "sincere_df = train_df.loc[train_df[\"target\"] == 0]\n",
    "print(\"The number of sincere is \" + str(sincere_df.shape[0]))"
   ]
  },
  {
   "cell_type": "code",
   "execution_count": 34,
   "metadata": {},
   "outputs": [],
   "source": [
    "# get numpy array of questions\n",
    "questions = train_df[\"question_text\"].values"
   ]
  },
  {
   "cell_type": "code",
   "execution_count": 35,
   "metadata": {},
   "outputs": [
    {
     "data": {
      "text/plain": [
       "array(['How did Quebec nationalists see their province as a nation in the 1960s?',\n",
       "       'Do you have an adopted dog, how would you encourage people to adopt and not shop?'],\n",
       "      dtype=object)"
      ]
     },
     "execution_count": 35,
     "metadata": {},
     "output_type": "execute_result"
    }
   ],
   "source": [
    "test = questions[0:2]\n",
    "test"
   ]
  },
  {
   "cell_type": "code",
   "execution_count": 38,
   "metadata": {},
   "outputs": [],
   "source": [
    "# Import the Universal Sentence Encoder's TF Hub module\n",
    "module_url = \"https://tfhub.dev/google/universal-sentence-encoder/2\"\n",
    "embed = hub.Module(module_url)"
   ]
  },
  {
   "cell_type": "code",
   "execution_count": 63,
   "metadata": {},
   "outputs": [
    {
     "name": "stdout",
     "output_type": "stream",
     "text": [
      "INFO:tensorflow:Saver not created because there are no variables in the graph to restore\n",
      "[[-0.00416658  0.00399125 -0.06326147 ... -0.04322257 -0.04416081\n",
      "  -0.06633756]\n",
      " [ 0.028851   -0.04676896 -0.00342507 ...  0.05266976 -0.03536891\n",
      "   0.00574462]]\n",
      "(2, 512)\n"
     ]
    }
   ],
   "source": [
    "with tf.Session() as sess:\n",
    "    sess.run([tf.global_variables_initializer(), tf.tables_initializer()])\n",
    "    question_embeddings = sess.run(embed(test))\n",
    "    print(question_embeddings)\n",
    "    print(question_embeddings.shape)\n",
    "    embedding_df = pd.DataFrame(question_embeddings)\n",
    "    embedding_df.to_csv(\"test.csv\", index=False)"
   ]
  },
  {
   "cell_type": "code",
   "execution_count": 64,
   "metadata": {},
   "outputs": [
    {
     "data": {
      "text/html": [
       "<div>\n",
       "<style scoped>\n",
       "    .dataframe tbody tr th:only-of-type {\n",
       "        vertical-align: middle;\n",
       "    }\n",
       "\n",
       "    .dataframe tbody tr th {\n",
       "        vertical-align: top;\n",
       "    }\n",
       "\n",
       "    .dataframe thead th {\n",
       "        text-align: right;\n",
       "    }\n",
       "</style>\n",
       "<table border=\"1\" class=\"dataframe\">\n",
       "  <thead>\n",
       "    <tr style=\"text-align: right;\">\n",
       "      <th></th>\n",
       "      <th>0</th>\n",
       "      <th>1</th>\n",
       "      <th>2</th>\n",
       "      <th>3</th>\n",
       "      <th>4</th>\n",
       "      <th>5</th>\n",
       "      <th>6</th>\n",
       "      <th>7</th>\n",
       "      <th>8</th>\n",
       "      <th>9</th>\n",
       "      <th>...</th>\n",
       "      <th>502</th>\n",
       "      <th>503</th>\n",
       "      <th>504</th>\n",
       "      <th>505</th>\n",
       "      <th>506</th>\n",
       "      <th>507</th>\n",
       "      <th>508</th>\n",
       "      <th>509</th>\n",
       "      <th>510</th>\n",
       "      <th>511</th>\n",
       "    </tr>\n",
       "  </thead>\n",
       "  <tbody>\n",
       "    <tr>\n",
       "      <th>0</th>\n",
       "      <td>-0.004167</td>\n",
       "      <td>0.003991</td>\n",
       "      <td>-0.063261</td>\n",
       "      <td>0.051590</td>\n",
       "      <td>-0.04100</td>\n",
       "      <td>-0.044420</td>\n",
       "      <td>0.084289</td>\n",
       "      <td>-0.007363</td>\n",
       "      <td>-0.021403</td>\n",
       "      <td>-0.022497</td>\n",
       "      <td>...</td>\n",
       "      <td>0.060429</td>\n",
       "      <td>-0.062331</td>\n",
       "      <td>-0.017937</td>\n",
       "      <td>-0.033932</td>\n",
       "      <td>0.009563</td>\n",
       "      <td>-0.063174</td>\n",
       "      <td>0.053774</td>\n",
       "      <td>-0.043223</td>\n",
       "      <td>-0.044161</td>\n",
       "      <td>-0.066338</td>\n",
       "    </tr>\n",
       "    <tr>\n",
       "      <th>1</th>\n",
       "      <td>0.028851</td>\n",
       "      <td>-0.046769</td>\n",
       "      <td>-0.003425</td>\n",
       "      <td>0.002011</td>\n",
       "      <td>0.03864</td>\n",
       "      <td>0.033116</td>\n",
       "      <td>0.003396</td>\n",
       "      <td>0.041565</td>\n",
       "      <td>-0.004693</td>\n",
       "      <td>0.022073</td>\n",
       "      <td>...</td>\n",
       "      <td>0.045903</td>\n",
       "      <td>0.027739</td>\n",
       "      <td>-0.002885</td>\n",
       "      <td>0.001373</td>\n",
       "      <td>-0.040582</td>\n",
       "      <td>-0.004657</td>\n",
       "      <td>0.026895</td>\n",
       "      <td>0.052670</td>\n",
       "      <td>-0.035369</td>\n",
       "      <td>0.005745</td>\n",
       "    </tr>\n",
       "  </tbody>\n",
       "</table>\n",
       "<p>2 rows × 512 columns</p>\n",
       "</div>"
      ],
      "text/plain": [
       "          0         1         2         3        4         5         6  \\\n",
       "0 -0.004167  0.003991 -0.063261  0.051590 -0.04100 -0.044420  0.084289   \n",
       "1  0.028851 -0.046769 -0.003425  0.002011  0.03864  0.033116  0.003396   \n",
       "\n",
       "          7         8         9    ...          502       503       504  \\\n",
       "0 -0.007363 -0.021403 -0.022497    ...     0.060429 -0.062331 -0.017937   \n",
       "1  0.041565 -0.004693  0.022073    ...     0.045903  0.027739 -0.002885   \n",
       "\n",
       "        505       506       507       508       509       510       511  \n",
       "0 -0.033932  0.009563 -0.063174  0.053774 -0.043223 -0.044161 -0.066338  \n",
       "1  0.001373 -0.040582 -0.004657  0.026895  0.052670 -0.035369  0.005745  \n",
       "\n",
       "[2 rows x 512 columns]"
      ]
     },
     "execution_count": 64,
     "metadata": {},
     "output_type": "execute_result"
    }
   ],
   "source": [
    "pd.read_csv(\"test.csv\")"
   ]
  },
  {
   "cell_type": "code",
   "execution_count": 67,
   "metadata": {},
   "outputs": [
    {
     "data": {
      "text/plain": [
       "'1.10.0'"
      ]
     },
     "execution_count": 67,
     "metadata": {},
     "output_type": "execute_result"
    }
   ],
   "source": [
    "tf.__version__"
   ]
  },
  {
   "cell_type": "code",
   "execution_count": 68,
   "metadata": {},
   "outputs": [
    {
     "data": {
      "text/html": [
       "<div>\n",
       "<style scoped>\n",
       "    .dataframe tbody tr th:only-of-type {\n",
       "        vertical-align: middle;\n",
       "    }\n",
       "\n",
       "    .dataframe tbody tr th {\n",
       "        vertical-align: top;\n",
       "    }\n",
       "\n",
       "    .dataframe thead th {\n",
       "        text-align: right;\n",
       "    }\n",
       "</style>\n",
       "<table border=\"1\" class=\"dataframe\">\n",
       "  <thead>\n",
       "    <tr style=\"text-align: right;\">\n",
       "      <th></th>\n",
       "      <th>0</th>\n",
       "      <th>1</th>\n",
       "      <th>2</th>\n",
       "      <th>3</th>\n",
       "      <th>4</th>\n",
       "      <th>5</th>\n",
       "      <th>6</th>\n",
       "      <th>7</th>\n",
       "      <th>8</th>\n",
       "      <th>9</th>\n",
       "      <th>...</th>\n",
       "      <th>502</th>\n",
       "      <th>503</th>\n",
       "      <th>504</th>\n",
       "      <th>505</th>\n",
       "      <th>506</th>\n",
       "      <th>507</th>\n",
       "      <th>508</th>\n",
       "      <th>509</th>\n",
       "      <th>510</th>\n",
       "      <th>511</th>\n",
       "    </tr>\n",
       "  </thead>\n",
       "  <tbody>\n",
       "    <tr>\n",
       "      <th>0</th>\n",
       "      <td>-0.004167</td>\n",
       "      <td>0.003991</td>\n",
       "      <td>-0.063261</td>\n",
       "      <td>0.051590</td>\n",
       "      <td>-0.04100</td>\n",
       "      <td>-0.044420</td>\n",
       "      <td>0.084289</td>\n",
       "      <td>-0.007363</td>\n",
       "      <td>-0.021403</td>\n",
       "      <td>-0.022497</td>\n",
       "      <td>...</td>\n",
       "      <td>0.060429</td>\n",
       "      <td>-0.062331</td>\n",
       "      <td>-0.017937</td>\n",
       "      <td>-0.033932</td>\n",
       "      <td>0.009563</td>\n",
       "      <td>-0.063174</td>\n",
       "      <td>0.053774</td>\n",
       "      <td>-0.043223</td>\n",
       "      <td>-0.044161</td>\n",
       "      <td>-0.066338</td>\n",
       "    </tr>\n",
       "    <tr>\n",
       "      <th>1</th>\n",
       "      <td>0.028851</td>\n",
       "      <td>-0.046769</td>\n",
       "      <td>-0.003425</td>\n",
       "      <td>0.002011</td>\n",
       "      <td>0.03864</td>\n",
       "      <td>0.033116</td>\n",
       "      <td>0.003396</td>\n",
       "      <td>0.041565</td>\n",
       "      <td>-0.004693</td>\n",
       "      <td>0.022073</td>\n",
       "      <td>...</td>\n",
       "      <td>0.045903</td>\n",
       "      <td>0.027739</td>\n",
       "      <td>-0.002885</td>\n",
       "      <td>0.001373</td>\n",
       "      <td>-0.040582</td>\n",
       "      <td>-0.004657</td>\n",
       "      <td>0.026895</td>\n",
       "      <td>0.052670</td>\n",
       "      <td>-0.035369</td>\n",
       "      <td>0.005745</td>\n",
       "    </tr>\n",
       "  </tbody>\n",
       "</table>\n",
       "<p>2 rows × 512 columns</p>\n",
       "</div>"
      ],
      "text/plain": [
       "          0         1         2         3        4         5         6  \\\n",
       "0 -0.004167  0.003991 -0.063261  0.051590 -0.04100 -0.044420  0.084289   \n",
       "1  0.028851 -0.046769 -0.003425  0.002011  0.03864  0.033116  0.003396   \n",
       "\n",
       "          7         8         9    ...          502       503       504  \\\n",
       "0 -0.007363 -0.021403 -0.022497    ...     0.060429 -0.062331 -0.017937   \n",
       "1  0.041565 -0.004693  0.022073    ...     0.045903  0.027739 -0.002885   \n",
       "\n",
       "        505       506       507       508       509       510       511  \n",
       "0 -0.033932  0.009563 -0.063174  0.053774 -0.043223 -0.044161 -0.066338  \n",
       "1  0.001373 -0.040582 -0.004657  0.026895  0.052670 -0.035369  0.005745  \n",
       "\n",
       "[2 rows x 512 columns]"
      ]
     },
     "execution_count": 68,
     "metadata": {},
     "output_type": "execute_result"
    }
   ],
   "source": [
    "pd.read_csv(\"test_real.csv\")"
   ]
  },
  {
   "cell_type": "code",
   "execution_count": 23,
   "metadata": {},
   "outputs": [
    {
     "name": "stderr",
     "output_type": "stream",
     "text": [
      "Using TensorFlow backend.\n"
     ]
    }
   ],
   "source": [
    "from keras.models import Model\n",
    "from keras.layers import Input, Dense, Activation\n",
    "from keras import regularizers"
   ]
  },
  {
   "cell_type": "code",
   "execution_count": 26,
   "metadata": {},
   "outputs": [
    {
     "name": "stdout",
     "output_type": "stream",
     "text": [
      "_________________________________________________________________\n",
      "Layer (type)                 Output Shape              Param #   \n",
      "=================================================================\n",
      "input (InputLayer)           (None, 512)               0         \n",
      "_________________________________________________________________\n",
      "hidden1 (Dense)              (None, 1024)              525312    \n",
      "_________________________________________________________________\n",
      "hidden2 (Dense)              (None, 512)               524800    \n",
      "_________________________________________________________________\n",
      "hidden3 (Dense)              (None, 256)               131328    \n",
      "_________________________________________________________________\n",
      "output (Dense)               (None, 1)                 257       \n",
      "=================================================================\n",
      "Total params: 1,181,697\n",
      "Trainable params: 1,181,697\n",
      "Non-trainable params: 0\n",
      "_________________________________________________________________\n"
     ]
    }
   ],
   "source": [
    "X = Input(shape=(512,), name='input')\n",
    "hidden1 = Dense(units=1024, activation='relu', name='hidden1')(X)\n",
    "hidden2 = Dense(units=512, activation='relu', kernel_regularizer=regularizers.l2(0.01), name='hidden2')(hidden1)\n",
    "hidden3 = Dense(units=256, activation='relu', kernel_regularizer=regularizers.l2(0.01), name='hidden3')(hidden2)\n",
    "output = Dense(units=1, activation='sigmoid', kernel_regularizer=regularizers.l2(0.01), name='output')(hidden3)\n",
    "model = Model(inputs=X, outputs=output)\n",
    "model.compile(optimizer='Adam', loss='binary_crossentropy', metrics=['accuracy'])\n",
    "model.summary()"
   ]
  },
  {
   "cell_type": "code",
   "execution_count": 84,
   "metadata": {},
   "outputs": [],
   "source": [
    "# generate random training data\n",
    "x_train = np.random.random((100000, 512))\n",
    "y_train = np.random.randint(2, size=(100000, 1))"
   ]
  },
  {
   "cell_type": "code",
   "execution_count": null,
   "metadata": {},
   "outputs": [
    {
     "name": "stdout",
     "output_type": "stream",
     "text": [
      "Epoch 1/20\n",
      "100000/100000 [==============================] - 51s 515us/step - loss: 0.6938 - acc: 0.4999\n",
      "Epoch 2/20\n",
      "100000/100000 [==============================] - 40s 404us/step - loss: 0.6932 - acc: 0.4995\n",
      "Epoch 3/20\n",
      "100000/100000 [==============================] - 40s 404us/step - loss: 0.6933 - acc: 0.4990\n",
      "Epoch 4/20\n",
      " 17728/100000 [====>.........................] - ETA: 32s - loss: 0.6932 - acc: 0.5013"
     ]
    }
   ],
   "source": [
    "model.fit(x_train, y_train, epochs=20)"
   ]
  },
  {
   "cell_type": "code",
   "execution_count": 78,
   "metadata": {},
   "outputs": [
    {
     "data": {
      "text/plain": [
       "910"
      ]
     },
     "execution_count": 78,
     "metadata": {},
     "output_type": "execute_result"
    }
   ],
   "source": [
    "np.sum((model.predict(x_train) >= 0.5) == y_train)"
   ]
  },
  {
   "cell_type": "code",
   "execution_count": 80,
   "metadata": {},
   "outputs": [
    {
     "data": {
      "text/plain": [
       "array([[ True],\n",
       "       [ True],\n",
       "       [False],\n",
       "       [False],\n",
       "       [ True]])"
      ]
     },
     "execution_count": 80,
     "metadata": {},
     "output_type": "execute_result"
    }
   ],
   "source": [
    "(model.predict(x_train) >= 0.5)[0:5]"
   ]
  },
  {
   "cell_type": "code",
   "execution_count": 81,
   "metadata": {},
   "outputs": [
    {
     "data": {
      "text/plain": [
       "array([[1],\n",
       "       [1],\n",
       "       [0],\n",
       "       [0],\n",
       "       [1]])"
      ]
     },
     "execution_count": 81,
     "metadata": {},
     "output_type": "execute_result"
    }
   ],
   "source": [
    "y_train[0:5]"
   ]
  },
  {
   "cell_type": "code",
   "execution_count": null,
   "metadata": {},
   "outputs": [],
   "source": []
  }
 ],
 "metadata": {
  "kernelspec": {
   "display_name": "Python [conda env:quora]",
   "language": "python",
   "name": "conda-env-quora-py"
  },
  "language_info": {
   "codemirror_mode": {
    "name": "ipython",
    "version": 3
   },
   "file_extension": ".py",
   "mimetype": "text/x-python",
   "name": "python",
   "nbconvert_exporter": "python",
   "pygments_lexer": "ipython3",
   "version": "3.6.7"
  }
 },
 "nbformat": 4,
 "nbformat_minor": 2
}
