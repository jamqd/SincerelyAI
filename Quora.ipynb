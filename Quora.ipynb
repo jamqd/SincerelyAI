{
 "cells": [
  {
   "cell_type": "code",
   "execution_count": 11,
   "metadata": {},
   "outputs": [],
   "source": [
    "import tensorflow as tf\n",
    "import pandas as pd\n",
    "import matplotlib.pyplot as plt\n",
    "import tensorflow_hub as hub\n",
    "import numpy as np\n",
    "%matplotlib inline"
   ]
  },
  {
   "cell_type": "code",
   "execution_count": 13,
   "metadata": {},
   "outputs": [
    {
     "name": "stdout",
     "output_type": "stream",
     "text": [
      "Training Data Frame Dimensions: (1306122, 3)\n"
     ]
    }
   ],
   "source": [
    "# read training data\n",
    "train_df = pd.read_csv(\"data/train.csv\")\n",
    "print(\"Training Data Frame Dimensions: \" + str(train_df.shape))"
   ]
  },
  {
   "cell_type": "code",
   "execution_count": 30,
   "metadata": {},
   "outputs": [
    {
     "data": {
      "text/html": [
       "<div>\n",
       "<style scoped>\n",
       "    .dataframe tbody tr th:only-of-type {\n",
       "        vertical-align: middle;\n",
       "    }\n",
       "\n",
       "    .dataframe tbody tr th {\n",
       "        vertical-align: top;\n",
       "    }\n",
       "\n",
       "    .dataframe thead th {\n",
       "        text-align: right;\n",
       "    }\n",
       "</style>\n",
       "<table border=\"1\" class=\"dataframe\">\n",
       "  <thead>\n",
       "    <tr style=\"text-align: right;\">\n",
       "      <th></th>\n",
       "      <th>qid</th>\n",
       "      <th>question_text</th>\n",
       "      <th>target</th>\n",
       "    </tr>\n",
       "  </thead>\n",
       "  <tbody>\n",
       "    <tr>\n",
       "      <th>0</th>\n",
       "      <td>00002165364db923c7e6</td>\n",
       "      <td>How did Quebec nationalists see their province...</td>\n",
       "      <td>0</td>\n",
       "    </tr>\n",
       "    <tr>\n",
       "      <th>1</th>\n",
       "      <td>000032939017120e6e44</td>\n",
       "      <td>Do you have an adopted dog, how would you enco...</td>\n",
       "      <td>0</td>\n",
       "    </tr>\n",
       "    <tr>\n",
       "      <th>2</th>\n",
       "      <td>0000412ca6e4628ce2cf</td>\n",
       "      <td>Why does velocity affect time? Does velocity a...</td>\n",
       "      <td>0</td>\n",
       "    </tr>\n",
       "    <tr>\n",
       "      <th>3</th>\n",
       "      <td>000042bf85aa498cd78e</td>\n",
       "      <td>How did Otto von Guericke used the Magdeburg h...</td>\n",
       "      <td>0</td>\n",
       "    </tr>\n",
       "    <tr>\n",
       "      <th>4</th>\n",
       "      <td>0000455dfa3e01eae3af</td>\n",
       "      <td>Can I convert montra helicon D to a mountain b...</td>\n",
       "      <td>0</td>\n",
       "    </tr>\n",
       "  </tbody>\n",
       "</table>\n",
       "</div>"
      ],
      "text/plain": [
       "                    qid                                      question_text  \\\n",
       "0  00002165364db923c7e6  How did Quebec nationalists see their province...   \n",
       "1  000032939017120e6e44  Do you have an adopted dog, how would you enco...   \n",
       "2  0000412ca6e4628ce2cf  Why does velocity affect time? Does velocity a...   \n",
       "3  000042bf85aa498cd78e  How did Otto von Guericke used the Magdeburg h...   \n",
       "4  0000455dfa3e01eae3af  Can I convert montra helicon D to a mountain b...   \n",
       "\n",
       "   target  \n",
       "0       0  \n",
       "1       0  \n",
       "2       0  \n",
       "3       0  \n",
       "4       0  "
      ]
     },
     "execution_count": 30,
     "metadata": {},
     "output_type": "execute_result"
    }
   ],
   "source": [
    "# first 5 elements of training data\n",
    "train_df.head()"
   ]
  },
  {
   "cell_type": "code",
   "execution_count": 31,
   "metadata": {},
   "outputs": [
    {
     "data": {
      "text/html": [
       "<div>\n",
       "<style scoped>\n",
       "    .dataframe tbody tr th:only-of-type {\n",
       "        vertical-align: middle;\n",
       "    }\n",
       "\n",
       "    .dataframe tbody tr th {\n",
       "        vertical-align: top;\n",
       "    }\n",
       "\n",
       "    .dataframe thead th {\n",
       "        text-align: right;\n",
       "    }\n",
       "</style>\n",
       "<table border=\"1\" class=\"dataframe\">\n",
       "  <thead>\n",
       "    <tr style=\"text-align: right;\">\n",
       "      <th></th>\n",
       "      <th>qid</th>\n",
       "      <th>question_text</th>\n",
       "      <th>target</th>\n",
       "    </tr>\n",
       "  </thead>\n",
       "  <tbody>\n",
       "    <tr>\n",
       "      <th>1306117</th>\n",
       "      <td>ffffcc4e2331aaf1e41e</td>\n",
       "      <td>What other technical skills do you need as a c...</td>\n",
       "      <td>0</td>\n",
       "    </tr>\n",
       "    <tr>\n",
       "      <th>1306118</th>\n",
       "      <td>ffffd431801e5a2f4861</td>\n",
       "      <td>Does MS in ECE have good job prospects in USA ...</td>\n",
       "      <td>0</td>\n",
       "    </tr>\n",
       "    <tr>\n",
       "      <th>1306119</th>\n",
       "      <td>ffffd48fb36b63db010c</td>\n",
       "      <td>Is foam insulation toxic?</td>\n",
       "      <td>0</td>\n",
       "    </tr>\n",
       "    <tr>\n",
       "      <th>1306120</th>\n",
       "      <td>ffffec519fa37cf60c78</td>\n",
       "      <td>How can one start a research project based on ...</td>\n",
       "      <td>0</td>\n",
       "    </tr>\n",
       "    <tr>\n",
       "      <th>1306121</th>\n",
       "      <td>ffffed09fedb5088744a</td>\n",
       "      <td>Who wins in a battle between a Wolverine and a...</td>\n",
       "      <td>0</td>\n",
       "    </tr>\n",
       "  </tbody>\n",
       "</table>\n",
       "</div>"
      ],
      "text/plain": [
       "                          qid  \\\n",
       "1306117  ffffcc4e2331aaf1e41e   \n",
       "1306118  ffffd431801e5a2f4861   \n",
       "1306119  ffffd48fb36b63db010c   \n",
       "1306120  ffffec519fa37cf60c78   \n",
       "1306121  ffffed09fedb5088744a   \n",
       "\n",
       "                                             question_text  target  \n",
       "1306117  What other technical skills do you need as a c...       0  \n",
       "1306118  Does MS in ECE have good job prospects in USA ...       0  \n",
       "1306119                          Is foam insulation toxic?       0  \n",
       "1306120  How can one start a research project based on ...       0  \n",
       "1306121  Who wins in a battle between a Wolverine and a...       0  "
      ]
     },
     "execution_count": 31,
     "metadata": {},
     "output_type": "execute_result"
    }
   ],
   "source": [
    "# last 5 elements of training data\n",
    "train_df.tail()"
   ]
  },
  {
   "cell_type": "code",
   "execution_count": 32,
   "metadata": {},
   "outputs": [
    {
     "name": "stdout",
     "output_type": "stream",
     "text": [
      "The number of insincere is 80810\n"
     ]
    }
   ],
   "source": [
    "insincere_df = train_df.loc[train_df[\"target\"] == 1]\n",
    "print(\"The number of insincere is \" + str(insincere_df.shape[0]))"
   ]
  },
  {
   "cell_type": "code",
   "execution_count": 33,
   "metadata": {},
   "outputs": [
    {
     "name": "stdout",
     "output_type": "stream",
     "text": [
      "The number of sincere is 1225312\n"
     ]
    }
   ],
   "source": [
    "sincere_df = train_df.loc[train_df[\"target\"] == 0]\n",
    "print(\"The number of sincere is \" + str(sincere_df.shape[0]))"
   ]
  },
  {
   "cell_type": "code",
   "execution_count": 34,
   "metadata": {},
   "outputs": [],
   "source": [
    "# get numpy array of questions\n",
    "questions = train_df[\"question_text\"].values"
   ]
  },
  {
   "cell_type": "code",
   "execution_count": 2,
   "metadata": {},
   "outputs": [
    {
     "name": "stdout",
     "output_type": "stream",
     "text": [
      "INFO:tensorflow:Using /var/folders/sq/nv9rnjks28lfsz7kttkp61rr0000gn/T/tfhub_modules to cache modules.\n"
     ]
    }
   ],
   "source": [
    "# Import the Universal Sentence Encoder's TF Hub module\n",
    "module_url = \"https://tfhub.dev/google/universal-sentence-encoder/2\"\n",
    "embed = hub.Module(module_url)"
   ]
  },
  {
   "cell_type": "code",
   "execution_count": 63,
   "metadata": {},
   "outputs": [
    {
     "name": "stdout",
     "output_type": "stream",
     "text": [
      "INFO:tensorflow:Saver not created because there are no variables in the graph to restore\n",
      "[[-0.00416658  0.00399125 -0.06326147 ... -0.04322257 -0.04416081\n",
      "  -0.06633756]\n",
      " [ 0.028851   -0.04676896 -0.00342507 ...  0.05266976 -0.03536891\n",
      "   0.00574462]]\n",
      "(2, 512)\n"
     ]
    }
   ],
   "source": [
    "with tf.Session() as sess:\n",
    "    sess.run([tf.global_variables_initializer(), tf.tables_initializer()])\n",
    "    question_embeddings = sess.run(embed(test))\n",
    "    print(question_embeddings)\n",
    "    print(question_embeddings.shape)\n",
    "    embedding_df = pd.DataFrame(question_embeddings)\n",
    "    embedding_df.to_csv(\"test.csv\", index=False)"
   ]
  },
  {
   "cell_type": "code",
   "execution_count": 64,
   "metadata": {},
   "outputs": [
    {
     "data": {
      "text/html": [
       "<div>\n",
       "<style scoped>\n",
       "    .dataframe tbody tr th:only-of-type {\n",
       "        vertical-align: middle;\n",
       "    }\n",
       "\n",
       "    .dataframe tbody tr th {\n",
       "        vertical-align: top;\n",
       "    }\n",
       "\n",
       "    .dataframe thead th {\n",
       "        text-align: right;\n",
       "    }\n",
       "</style>\n",
       "<table border=\"1\" class=\"dataframe\">\n",
       "  <thead>\n",
       "    <tr style=\"text-align: right;\">\n",
       "      <th></th>\n",
       "      <th>0</th>\n",
       "      <th>1</th>\n",
       "      <th>2</th>\n",
       "      <th>3</th>\n",
       "      <th>4</th>\n",
       "      <th>5</th>\n",
       "      <th>6</th>\n",
       "      <th>7</th>\n",
       "      <th>8</th>\n",
       "      <th>9</th>\n",
       "      <th>...</th>\n",
       "      <th>502</th>\n",
       "      <th>503</th>\n",
       "      <th>504</th>\n",
       "      <th>505</th>\n",
       "      <th>506</th>\n",
       "      <th>507</th>\n",
       "      <th>508</th>\n",
       "      <th>509</th>\n",
       "      <th>510</th>\n",
       "      <th>511</th>\n",
       "    </tr>\n",
       "  </thead>\n",
       "  <tbody>\n",
       "    <tr>\n",
       "      <th>0</th>\n",
       "      <td>-0.004167</td>\n",
       "      <td>0.003991</td>\n",
       "      <td>-0.063261</td>\n",
       "      <td>0.051590</td>\n",
       "      <td>-0.04100</td>\n",
       "      <td>-0.044420</td>\n",
       "      <td>0.084289</td>\n",
       "      <td>-0.007363</td>\n",
       "      <td>-0.021403</td>\n",
       "      <td>-0.022497</td>\n",
       "      <td>...</td>\n",
       "      <td>0.060429</td>\n",
       "      <td>-0.062331</td>\n",
       "      <td>-0.017937</td>\n",
       "      <td>-0.033932</td>\n",
       "      <td>0.009563</td>\n",
       "      <td>-0.063174</td>\n",
       "      <td>0.053774</td>\n",
       "      <td>-0.043223</td>\n",
       "      <td>-0.044161</td>\n",
       "      <td>-0.066338</td>\n",
       "    </tr>\n",
       "    <tr>\n",
       "      <th>1</th>\n",
       "      <td>0.028851</td>\n",
       "      <td>-0.046769</td>\n",
       "      <td>-0.003425</td>\n",
       "      <td>0.002011</td>\n",
       "      <td>0.03864</td>\n",
       "      <td>0.033116</td>\n",
       "      <td>0.003396</td>\n",
       "      <td>0.041565</td>\n",
       "      <td>-0.004693</td>\n",
       "      <td>0.022073</td>\n",
       "      <td>...</td>\n",
       "      <td>0.045903</td>\n",
       "      <td>0.027739</td>\n",
       "      <td>-0.002885</td>\n",
       "      <td>0.001373</td>\n",
       "      <td>-0.040582</td>\n",
       "      <td>-0.004657</td>\n",
       "      <td>0.026895</td>\n",
       "      <td>0.052670</td>\n",
       "      <td>-0.035369</td>\n",
       "      <td>0.005745</td>\n",
       "    </tr>\n",
       "  </tbody>\n",
       "</table>\n",
       "<p>2 rows × 512 columns</p>\n",
       "</div>"
      ],
      "text/plain": [
       "          0         1         2         3        4         5         6  \\\n",
       "0 -0.004167  0.003991 -0.063261  0.051590 -0.04100 -0.044420  0.084289   \n",
       "1  0.028851 -0.046769 -0.003425  0.002011  0.03864  0.033116  0.003396   \n",
       "\n",
       "          7         8         9    ...          502       503       504  \\\n",
       "0 -0.007363 -0.021403 -0.022497    ...     0.060429 -0.062331 -0.017937   \n",
       "1  0.041565 -0.004693  0.022073    ...     0.045903  0.027739 -0.002885   \n",
       "\n",
       "        505       506       507       508       509       510       511  \n",
       "0 -0.033932  0.009563 -0.063174  0.053774 -0.043223 -0.044161 -0.066338  \n",
       "1  0.001373 -0.040582 -0.004657  0.026895  0.052670 -0.035369  0.005745  \n",
       "\n",
       "[2 rows x 512 columns]"
      ]
     },
     "execution_count": 64,
     "metadata": {},
     "output_type": "execute_result"
    }
   ],
   "source": [
    "pd.read_csv(\"test.csv\")"
   ]
  },
  {
   "cell_type": "code",
   "execution_count": 67,
   "metadata": {},
   "outputs": [
    {
     "data": {
      "text/plain": [
       "'1.10.0'"
      ]
     },
     "execution_count": 67,
     "metadata": {},
     "output_type": "execute_result"
    }
   ],
   "source": [
    "tf.__version__"
   ]
  },
  {
   "cell_type": "code",
   "execution_count": 68,
   "metadata": {},
   "outputs": [
    {
     "data": {
      "text/html": [
       "<div>\n",
       "<style scoped>\n",
       "    .dataframe tbody tr th:only-of-type {\n",
       "        vertical-align: middle;\n",
       "    }\n",
       "\n",
       "    .dataframe tbody tr th {\n",
       "        vertical-align: top;\n",
       "    }\n",
       "\n",
       "    .dataframe thead th {\n",
       "        text-align: right;\n",
       "    }\n",
       "</style>\n",
       "<table border=\"1\" class=\"dataframe\">\n",
       "  <thead>\n",
       "    <tr style=\"text-align: right;\">\n",
       "      <th></th>\n",
       "      <th>0</th>\n",
       "      <th>1</th>\n",
       "      <th>2</th>\n",
       "      <th>3</th>\n",
       "      <th>4</th>\n",
       "      <th>5</th>\n",
       "      <th>6</th>\n",
       "      <th>7</th>\n",
       "      <th>8</th>\n",
       "      <th>9</th>\n",
       "      <th>...</th>\n",
       "      <th>502</th>\n",
       "      <th>503</th>\n",
       "      <th>504</th>\n",
       "      <th>505</th>\n",
       "      <th>506</th>\n",
       "      <th>507</th>\n",
       "      <th>508</th>\n",
       "      <th>509</th>\n",
       "      <th>510</th>\n",
       "      <th>511</th>\n",
       "    </tr>\n",
       "  </thead>\n",
       "  <tbody>\n",
       "    <tr>\n",
       "      <th>0</th>\n",
       "      <td>-0.004167</td>\n",
       "      <td>0.003991</td>\n",
       "      <td>-0.063261</td>\n",
       "      <td>0.051590</td>\n",
       "      <td>-0.04100</td>\n",
       "      <td>-0.044420</td>\n",
       "      <td>0.084289</td>\n",
       "      <td>-0.007363</td>\n",
       "      <td>-0.021403</td>\n",
       "      <td>-0.022497</td>\n",
       "      <td>...</td>\n",
       "      <td>0.060429</td>\n",
       "      <td>-0.062331</td>\n",
       "      <td>-0.017937</td>\n",
       "      <td>-0.033932</td>\n",
       "      <td>0.009563</td>\n",
       "      <td>-0.063174</td>\n",
       "      <td>0.053774</td>\n",
       "      <td>-0.043223</td>\n",
       "      <td>-0.044161</td>\n",
       "      <td>-0.066338</td>\n",
       "    </tr>\n",
       "    <tr>\n",
       "      <th>1</th>\n",
       "      <td>0.028851</td>\n",
       "      <td>-0.046769</td>\n",
       "      <td>-0.003425</td>\n",
       "      <td>0.002011</td>\n",
       "      <td>0.03864</td>\n",
       "      <td>0.033116</td>\n",
       "      <td>0.003396</td>\n",
       "      <td>0.041565</td>\n",
       "      <td>-0.004693</td>\n",
       "      <td>0.022073</td>\n",
       "      <td>...</td>\n",
       "      <td>0.045903</td>\n",
       "      <td>0.027739</td>\n",
       "      <td>-0.002885</td>\n",
       "      <td>0.001373</td>\n",
       "      <td>-0.040582</td>\n",
       "      <td>-0.004657</td>\n",
       "      <td>0.026895</td>\n",
       "      <td>0.052670</td>\n",
       "      <td>-0.035369</td>\n",
       "      <td>0.005745</td>\n",
       "    </tr>\n",
       "  </tbody>\n",
       "</table>\n",
       "<p>2 rows × 512 columns</p>\n",
       "</div>"
      ],
      "text/plain": [
       "          0         1         2         3        4         5         6  \\\n",
       "0 -0.004167  0.003991 -0.063261  0.051590 -0.04100 -0.044420  0.084289   \n",
       "1  0.028851 -0.046769 -0.003425  0.002011  0.03864  0.033116  0.003396   \n",
       "\n",
       "          7         8         9    ...          502       503       504  \\\n",
       "0 -0.007363 -0.021403 -0.022497    ...     0.060429 -0.062331 -0.017937   \n",
       "1  0.041565 -0.004693  0.022073    ...     0.045903  0.027739 -0.002885   \n",
       "\n",
       "        505       506       507       508       509       510       511  \n",
       "0 -0.033932  0.009563 -0.063174  0.053774 -0.043223 -0.044161 -0.066338  \n",
       "1  0.001373 -0.040582 -0.004657  0.026895  0.052670 -0.035369  0.005745  \n",
       "\n",
       "[2 rows x 512 columns]"
      ]
     },
     "execution_count": 68,
     "metadata": {},
     "output_type": "execute_result"
    }
   ],
   "source": [
    "pd.read_csv(\"test_real.csv\")"
   ]
  },
  {
   "cell_type": "code",
   "execution_count": 23,
   "metadata": {},
   "outputs": [
    {
     "name": "stderr",
     "output_type": "stream",
     "text": [
      "Using TensorFlow backend.\n"
     ]
    }
   ],
   "source": [
    "from keras.models import Model\n",
    "from keras.layers import Input, Dense, Activation\n",
    "from keras import regularizers"
   ]
  },
  {
   "cell_type": "code",
   "execution_count": 26,
   "metadata": {},
   "outputs": [
    {
     "name": "stdout",
     "output_type": "stream",
     "text": [
      "_________________________________________________________________\n",
      "Layer (type)                 Output Shape              Param #   \n",
      "=================================================================\n",
      "input (InputLayer)           (None, 512)               0         \n",
      "_________________________________________________________________\n",
      "hidden1 (Dense)              (None, 1024)              525312    \n",
      "_________________________________________________________________\n",
      "hidden2 (Dense)              (None, 512)               524800    \n",
      "_________________________________________________________________\n",
      "hidden3 (Dense)              (None, 256)               131328    \n",
      "_________________________________________________________________\n",
      "output (Dense)               (None, 1)                 257       \n",
      "=================================================================\n",
      "Total params: 1,181,697\n",
      "Trainable params: 1,181,697\n",
      "Non-trainable params: 0\n",
      "_________________________________________________________________\n"
     ]
    }
   ],
   "source": [
    "X = Input(shape=(512,), name='input')\n",
    "hidden1 = Dense(units=1024, activation='relu', name='hidden1')(X)\n",
    "hidden2 = Dense(units=512, activation='relu', kernel_regularizer=regularizers.l2(0.01), name='hidden2')(hidden1)\n",
    "hidden3 = Dense(units=256, activation='relu', kernel_regularizer=regularizers.l2(0.01), name='hidden3')(hidden2)\n",
    "output = Dense(units=1, activation='sigmoid', kernel_regularizer=regularizers.l2(0.01), name='output')(hidden3)\n",
    "model = Model(inputs=X, outputs=output)\n",
    "model.compile(optimizer='Adam', loss='binary_crossentropy', metrics=['accuracy'])\n",
    "model.summary()"
   ]
  },
  {
   "cell_type": "code",
   "execution_count": 84,
   "metadata": {},
   "outputs": [],
   "source": [
    "# generate random training data\n",
    "x_train = np.random.random((100000, 512))\n",
    "y_train = np.random.randint(2, size=(100000, 1))"
   ]
  },
  {
   "cell_type": "code",
   "execution_count": null,
   "metadata": {},
   "outputs": [
    {
     "name": "stdout",
     "output_type": "stream",
     "text": [
      "Epoch 1/20\n",
      "100000/100000 [==============================] - 51s 515us/step - loss: 0.6938 - acc: 0.4999\n",
      "Epoch 2/20\n",
      "100000/100000 [==============================] - 40s 404us/step - loss: 0.6932 - acc: 0.4995\n",
      "Epoch 3/20\n",
      "100000/100000 [==============================] - 40s 404us/step - loss: 0.6933 - acc: 0.4990\n",
      "Epoch 4/20\n",
      " 17728/100000 [====>.........................] - ETA: 32s - loss: 0.6932 - acc: 0.5013"
     ]
    }
   ],
   "source": [
    "model.fit(x_train, y_train, epochs=20)"
   ]
  },
  {
   "cell_type": "code",
   "execution_count": 78,
   "metadata": {},
   "outputs": [
    {
     "data": {
      "text/plain": [
       "910"
      ]
     },
     "execution_count": 78,
     "metadata": {},
     "output_type": "execute_result"
    }
   ],
   "source": [
    "np.sum((model.predict(x_train) >= 0.5) == y_train)"
   ]
  },
  {
   "cell_type": "code",
   "execution_count": 80,
   "metadata": {},
   "outputs": [
    {
     "data": {
      "text/plain": [
       "array([[ True],\n",
       "       [ True],\n",
       "       [False],\n",
       "       [False],\n",
       "       [ True]])"
      ]
     },
     "execution_count": 80,
     "metadata": {},
     "output_type": "execute_result"
    }
   ],
   "source": [
    "(model.predict(x_train) >= 0.5)[0:5]"
   ]
  },
  {
   "cell_type": "code",
   "execution_count": 81,
   "metadata": {},
   "outputs": [
    {
     "data": {
      "text/plain": [
       "array([[1],\n",
       "       [1],\n",
       "       [0],\n",
       "       [0],\n",
       "       [1]])"
      ]
     },
     "execution_count": 81,
     "metadata": {},
     "output_type": "execute_result"
    }
   ],
   "source": [
    "y_train[0:5]"
   ]
  },
  {
   "cell_type": "code",
   "execution_count": 3,
   "metadata": {},
   "outputs": [],
   "source": [
    "trainfull_df = pd.read_csv(\"data/question_embeddings_full.csv\")"
   ]
  },
  {
   "cell_type": "code",
   "execution_count": 4,
   "metadata": {},
   "outputs": [
    {
     "data": {
      "text/plain": [
       "(1274909, 512)"
      ]
     },
     "execution_count": 4,
     "metadata": {},
     "output_type": "execute_result"
    }
   ],
   "source": [
    "trainfull_df.shape"
   ]
  },
  {
   "cell_type": "code",
   "execution_count": 23,
   "metadata": {},
   "outputs": [
    {
     "data": {
      "text/html": [
       "<div>\n",
       "<style scoped>\n",
       "    .dataframe tbody tr th:only-of-type {\n",
       "        vertical-align: middle;\n",
       "    }\n",
       "\n",
       "    .dataframe tbody tr th {\n",
       "        vertical-align: top;\n",
       "    }\n",
       "\n",
       "    .dataframe thead th {\n",
       "        text-align: right;\n",
       "    }\n",
       "</style>\n",
       "<table border=\"1\" class=\"dataframe\">\n",
       "  <thead>\n",
       "    <tr style=\"text-align: right;\">\n",
       "      <th></th>\n",
       "      <th>0</th>\n",
       "      <th>1</th>\n",
       "      <th>2</th>\n",
       "      <th>3</th>\n",
       "      <th>4</th>\n",
       "      <th>5</th>\n",
       "      <th>6</th>\n",
       "      <th>7</th>\n",
       "      <th>8</th>\n",
       "      <th>9</th>\n",
       "      <th>...</th>\n",
       "      <th>502</th>\n",
       "      <th>503</th>\n",
       "      <th>504</th>\n",
       "      <th>505</th>\n",
       "      <th>506</th>\n",
       "      <th>507</th>\n",
       "      <th>508</th>\n",
       "      <th>509</th>\n",
       "      <th>510</th>\n",
       "      <th>511</th>\n",
       "    </tr>\n",
       "  </thead>\n",
       "  <tbody>\n",
       "    <tr>\n",
       "      <th>1000000</th>\n",
       "      <td>0.058254</td>\n",
       "      <td>0.070627</td>\n",
       "      <td>-0.027325</td>\n",
       "      <td>0.031693</td>\n",
       "      <td>0.061531</td>\n",
       "      <td>-0.000566</td>\n",
       "      <td>0.023569</td>\n",
       "      <td>0.039214</td>\n",
       "      <td>-0.009736</td>\n",
       "      <td>-0.028947</td>\n",
       "      <td>...</td>\n",
       "      <td>0.016673</td>\n",
       "      <td>-0.048778</td>\n",
       "      <td>0.079883</td>\n",
       "      <td>-0.01947</td>\n",
       "      <td>0.059508</td>\n",
       "      <td>-0.035356</td>\n",
       "      <td>0.04073</td>\n",
       "      <td>0.032482</td>\n",
       "      <td>-0.046704</td>\n",
       "      <td>-0.06009</td>\n",
       "    </tr>\n",
       "  </tbody>\n",
       "</table>\n",
       "<p>1 rows × 512 columns</p>\n",
       "</div>"
      ],
      "text/plain": [
       "                0         1         2         3         4         5         6  \\\n",
       "1000000  0.058254  0.070627 -0.027325  0.031693  0.061531 -0.000566  0.023569   \n",
       "\n",
       "                7         8         9   ...          502       503       504  \\\n",
       "1000000  0.039214 -0.009736 -0.028947   ...     0.016673 -0.048778  0.079883   \n",
       "\n",
       "             505       506       507      508       509       510      511  \n",
       "1000000 -0.01947  0.059508 -0.035356  0.04073  0.032482 -0.046704 -0.06009  \n",
       "\n",
       "[1 rows x 512 columns]"
      ]
     },
     "execution_count": 23,
     "metadata": {},
     "output_type": "execute_result"
    }
   ],
   "source": [
    "trainfull_df[1000000:1000001]"
   ]
  },
  {
   "cell_type": "code",
   "execution_count": 24,
   "metadata": {},
   "outputs": [
    {
     "data": {
      "text/plain": [
       "array(['Why does my iPhone 6s constantly uncharge then charge while it’s plugged in?'],\n",
       "      dtype=object)"
      ]
     },
     "execution_count": 24,
     "metadata": {},
     "output_type": "execute_result"
    }
   ],
   "source": [
    "train_df[1000000:1000001][\"question_text\"].values"
   ]
  },
  {
   "cell_type": "code",
   "execution_count": 25,
   "metadata": {},
   "outputs": [
    {
     "name": "stdout",
     "output_type": "stream",
     "text": [
      "INFO:tensorflow:Saver not created because there are no variables in the graph to restore\n",
      "[[ 0.05825443  0.07062677 -0.02732523  0.03169323  0.06153063 -0.0005655\n",
      "   0.02356871  0.03921385 -0.00973642 -0.02894681  0.05064894 -0.03798109\n",
      "   0.02615765  0.08583251 -0.0174476   0.05482742 -0.0538239  -0.00050486\n",
      "  -0.05370742 -0.00588169  0.04808163 -0.06402593  0.04426305 -0.03866523\n",
      "   0.02480852  0.0066233  -0.01235649 -0.0452129  -0.01571248  0.02111506\n",
      "   0.06141924 -0.06167299 -0.04213332 -0.01145462  0.04617374 -0.04922336\n",
      "   0.03938592  0.03969878 -0.02136076 -0.00053039 -0.00826684 -0.05043058\n",
      "  -0.00959504 -0.00685472  0.06138254  0.02639824 -0.02096973 -0.02846929\n",
      "   0.02515586 -0.02987037 -0.07425817  0.06693953  0.07807969 -0.06285922\n",
      "   0.04780135  0.06982468  0.05897531  0.01357999  0.08502827 -0.01516235\n",
      "   0.06095058  0.04406632 -0.02323662  0.06395537 -0.07076037 -0.00104227\n",
      "   0.0209284  -0.02447941 -0.03889888 -0.00220866  0.03645091  0.01801047\n",
      "   0.01340596  0.07125157  0.01034659  0.0332934  -0.00374825 -0.06068083\n",
      "   0.03014945 -0.05030856  0.02994891  0.04992413  0.01302061 -0.03395555\n",
      "  -0.03584881 -0.01704725  0.06068971 -0.04184835 -0.02720109 -0.04217813\n",
      "   0.04906534  0.0275462  -0.03266245 -0.05989378  0.02821244 -0.07687119\n",
      "  -0.01750354  0.00964057  0.018224    0.00046712 -0.00445537 -0.00740471\n",
      "   0.04464197 -0.02211538  0.00625739  0.0065401   0.04989867  0.01221349\n",
      "  -0.05922429 -0.00514932 -0.01360817  0.05937193 -0.03662479  0.06878535\n",
      "  -0.03901834  0.00869816  0.0225939  -0.04418009  0.03188264  0.05781513\n",
      "  -0.00223056 -0.04923111 -0.07680384  0.04999739  0.06404908  0.00763195\n",
      "   0.07223885  0.00228344 -0.07024453  0.04316074 -0.04006672  0.01880165\n",
      "   0.042843   -0.02587815  0.04363861 -0.07224741  0.05254607 -0.06010482\n",
      "   0.05034202 -0.04611512 -0.0332709  -0.03139366 -0.02782199  0.03577199\n",
      "  -0.07707691 -0.04647326 -0.02123134 -0.02580496 -0.03111944 -0.02856723\n",
      "  -0.03231844 -0.06267406  0.04656734 -0.02497756  0.00011858 -0.05813266\n",
      "   0.06834514  0.05738094 -0.06484066  0.010254   -0.04362844  0.0039532\n",
      "   0.01984548  0.01546764  0.04802384 -0.02422794  0.0403418  -0.04921252\n",
      "  -0.03849304  0.01019197  0.07606362  0.00189399 -0.01000547  0.03777172\n",
      "   0.02393817  0.06492262  0.08110603 -0.05562409 -0.05456835 -0.08134252\n",
      "   0.08039404  0.05759114 -0.03714258  0.02751145 -0.07593174 -0.04930891\n",
      "   0.02008639  0.02449701  0.05205434  0.04056781 -0.04262411 -0.02937358\n",
      "  -0.06157779  0.03841902  0.05869131 -0.05343729  0.06509054  0.07901432\n",
      "   0.03573677 -0.03432342  0.01600575  0.0593185   0.02187295 -0.02273767\n",
      "   0.02437783 -0.0488442   0.00768866 -0.00619003  0.05533582  0.00908077\n",
      "   0.05850993 -0.02305347 -0.0274558  -0.07670102  0.00670391  0.06198462\n",
      "  -0.01049421 -0.03165749  0.03576285 -0.06471684  0.01536067 -0.00039705\n",
      "   0.03373755 -0.01379794  0.0509022   0.07196496  0.04883943  0.05469763\n",
      "   0.05166207 -0.00531306  0.06480697 -0.03452582  0.03787313  0.00354364\n",
      "  -0.03633822  0.03912279  0.03563946 -0.06425191  0.0175362  -0.0358863\n",
      "  -0.04124421 -0.01040404 -0.02593879  0.01648903  0.04150964 -0.05653552\n",
      "   0.05669989 -0.01055713 -0.04771049  0.02585682  0.02511994 -0.02596542\n",
      "  -0.0842796   0.00801701  0.02161481  0.01287417 -0.03884786 -0.0533801\n",
      "  -0.0602286  -0.07333937  0.05885244 -0.05834129 -0.02355566  0.07959009\n",
      "   0.02389532  0.01485633 -0.01785652 -0.05903129 -0.03061501 -0.01288543\n",
      "  -0.0413175   0.0441362   0.03163388 -0.07389431 -0.03622105  0.07768068\n",
      "  -0.00780156  0.02165373 -0.07532495 -0.04194421  0.00879252 -0.02081563\n",
      "  -0.04522713  0.06988999 -0.02990623 -0.03047076 -0.03064088 -0.058551\n",
      "   0.04479831 -0.05962298  0.01735291  0.00323894 -0.0830505   0.03793896\n",
      "  -0.04763573  0.01892571 -0.05795065  0.01430588  0.02062254  0.01378768\n",
      "  -0.0857725   0.00303858 -0.00921229 -0.02636493 -0.06639827 -0.07989206\n",
      "  -0.06075216 -0.06653363  0.05461185 -0.04375471  0.00115904  0.02729161\n",
      "   0.00877645 -0.00110477 -0.0591769  -0.06900866  0.05300565 -0.00516711\n",
      "  -0.01079004 -0.00438837  0.0242687  -0.04981184 -0.06090586 -0.05403903\n",
      "  -0.03404308 -0.01572596  0.04872399  0.06417052 -0.07091226 -0.05034802\n",
      "  -0.04149183 -0.0231286  -0.03602779  0.01596306 -0.04944126  0.0183011\n",
      "  -0.01647352  0.03464412 -0.03048082 -0.01034772 -0.00624214 -0.01951655\n",
      "   0.03194743  0.06001706  0.02435359  0.01040595 -0.0041642   0.00346624\n",
      "  -0.07427429  0.06374786 -0.06519167  0.03094585 -0.01620717  0.04771748\n",
      "   0.03483207 -0.06669128 -0.03531511  0.04061474 -0.02035228  0.05465043\n",
      "   0.01710847  0.06276199  0.08495467 -0.04397237  0.06116604 -0.03267729\n",
      "   0.03789719  0.02924281  0.06256207  0.05768492 -0.05828735  0.04609006\n",
      "  -0.05523084 -0.08443594  0.01062426 -0.03565092 -0.0396474  -0.06144952\n",
      "  -0.07101592 -0.00918307 -0.02110968 -0.04104673  0.00149332  0.07674742\n",
      "   0.05582145 -0.03193147 -0.01388569  0.02132092 -0.0609184  -0.08264006\n",
      "   0.07081592 -0.00874301  0.02182292 -0.03834347  0.08616187 -0.01142207\n",
      "   0.06447394  0.01894446  0.08205462 -0.05898986  0.02196644 -0.01615455\n",
      "   0.04897593 -0.01625664  0.01573422 -0.00642073  0.05257463  0.01601913\n",
      "   0.00117396  0.04946988  0.05701703 -0.04139526 -0.04254486  0.01859142\n",
      "  -0.04446043 -0.07763106  0.07219411  0.02533584  0.08616463  0.02979105\n",
      "   0.02448453  0.04558958 -0.0258528  -0.06508681  0.01292975 -0.04542093\n",
      "  -0.03913889 -0.02415029  0.0129785   0.01217717  0.0431708   0.02907314\n",
      "  -0.0598981   0.05309979 -0.06599785  0.03013586  0.04449738  0.02485739\n",
      "  -0.00011624  0.06162757 -0.01321391 -0.04098272 -0.03791276  0.01489503\n",
      "   0.05354401  0.07296616  0.05296429  0.00240053  0.03298257 -0.07568122\n",
      "   0.05562112  0.02727984  0.02269205  0.04414306  0.03540353 -0.00688248\n",
      "   0.04260676  0.01432472  0.02753418 -0.02042281 -0.02040719 -0.01602329\n",
      "  -0.01811728 -0.00326446  0.01041042  0.03682849  0.05485712  0.04769219\n",
      "  -0.01288157 -0.0470867  -0.01869822 -0.02898604  0.02176588  0.01386806\n",
      "   0.02251432 -0.08299898 -0.03563228  0.07391935  0.0483474  -0.03991751\n",
      "   0.06923985 -0.00675708 -0.05212016  0.03619321 -0.04175524  0.00998682\n",
      "   0.03871909  0.02739822 -0.04648507 -0.03108329 -0.04745728  0.06118953\n",
      "  -0.07018995 -0.02915256 -0.01556807 -0.07377357 -0.05394546  0.05911954\n",
      "   0.04025203 -0.05722168 -0.03533739  0.06124623  0.01667274 -0.04877762\n",
      "   0.07988336 -0.01947047  0.05950848 -0.03535583  0.04072959  0.03248252\n",
      "  -0.04670357 -0.06009027]]\n",
      "(1, 512)\n"
     ]
    }
   ],
   "source": [
    "with tf.Session() as sess:\n",
    "    sess.run([tf.global_variables_initializer(), tf.tables_initializer()])\n",
    "    question_embeddings = sess.run(embed(train_df[1000000:1000001][\"question_text\"].values))\n",
    "    print(question_embeddings)\n",
    "    print(question_embeddings.shape)"
   ]
  },
  {
   "cell_type": "code",
   "execution_count": null,
   "metadata": {},
   "outputs": [],
   "source": []
  }
 ],
 "metadata": {
  "kernelspec": {
   "display_name": "Python [conda env:quora]",
   "language": "python",
   "name": "conda-env-quora-py"
  },
  "language_info": {
   "codemirror_mode": {
    "name": "ipython",
    "version": 3
   },
   "file_extension": ".py",
   "mimetype": "text/x-python",
   "name": "python",
   "nbconvert_exporter": "python",
   "pygments_lexer": "ipython3",
   "version": "3.6.7"
  }
 },
 "nbformat": 4,
 "nbformat_minor": 2
}
